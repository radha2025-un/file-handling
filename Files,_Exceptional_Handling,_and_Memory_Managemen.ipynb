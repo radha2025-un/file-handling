{
  "nbformat": 4,
  "nbformat_minor": 0,
  "metadata": {
    "colab": {
      "provenance": []
    },
    "kernelspec": {
      "name": "python3",
      "display_name": "Python 3"
    },
    "language_info": {
      "name": "python"
    }
  },
  "cells": [
    {
      "cell_type": "markdown",
      "source": [
        " Question :-How can you open a file for writing in Python and write a string to it"
      ],
      "metadata": {
        "id": "AwLhl88Mi-mJ"
      }
    },
    {
      "cell_type": "code",
      "execution_count": null,
      "metadata": {
        "id": "1RSMx2iAi4R_"
      },
      "outputs": [],
      "source": []
    },
    {
      "cell_type": "code",
      "source": [
        "# Open function to open the file \"MyFile1.txt\"\n",
        "# (same directory) in append mode and\n",
        "file1 = open(\"MyFile1.txt\",\"a\")\n",
        "\n",
        "# store its reference in the variable file1\n",
        "# and \"MyFile2.txt\" in D:\\Text in file2\n",
        "file2 = open(r\"D:\\Text\\MyFile2.txt\",\"w+\")"
      ],
      "metadata": {
        "id": "5YgwSK6fj5Sf"
      },
      "execution_count": 1,
      "outputs": []
    },
    {
      "cell_type": "code",
      "source": [
        "L = [\"Work\\n\", \"Hard\\n\", \"in\\n\" , \"Silence\"]\n",
        "\n",
        "# Writing to file\n",
        "file1 = open('myfile.txt', 'w')\n",
        "file1.writelines(L)\n",
        "file1.close()\n",
        "\n",
        "# Opening file\n",
        "file1 = open('myfile.txt', 'r')\n",
        "count = 0\n",
        "\n",
        "# Using for loop\n",
        "print(\"Using for loop\")\n",
        "for line in file1:\n",
        "    count += 1\n",
        "    print(\"Line{}: {}\".format(count, line.strip()))\n",
        "\n",
        "# Closing files\n",
        "file1.close()"
      ],
      "metadata": {
        "colab": {
          "base_uri": "https://localhost:8080/"
        },
        "id": "zAlgrxV7j5HW",
        "outputId": "96118f0f-a0da-444c-cfeb-5e094fb03034"
      },
      "execution_count": 2,
      "outputs": [
        {
          "output_type": "stream",
          "name": "stdout",
          "text": [
            "Using for loop\n",
            "Line1: Work\n",
            "Line2: Hard\n",
            "Line3: in\n",
            "Line4: Silence\n"
          ]
        }
      ]
    },
    {
      "cell_type": "code",
      "source": [
        "# Write mode: Creates a new file or truncates an existing file\n",
        "\n",
        "with open(\"file.txt\", \"w\") as f:\n",
        "    f.write(\"Created using write mode.\")\n",
        "\n",
        "f = open(\"file.txt\",\"r\")\n",
        "print(f.read())\n",
        "\n",
        "# Append mode: Creates a new file or appends to an existing file\n",
        "\n",
        "with open(\"file.txt\", \"a\") as f:\n",
        "    f.write(\"Content appended to the file.\")\n",
        "\n",
        "f = open(\"file.txt\",\"r\")\n",
        "print(f.read())\n",
        "\n",
        "# Exclusive creation mode: Creates a new file, raises error if file exists\n",
        "\n",
        "try:\n",
        "    with open(\"file.txt\", \"x\") as f:\n",
        "        f.write(\"Created using exclusive mode.\")\n",
        "except FileExistsError:\n",
        "    print(\"Already exists.\")"
      ],
      "metadata": {
        "colab": {
          "base_uri": "https://localhost:8080/"
        },
        "id": "atq5Z2NzkaSw",
        "outputId": "b2efc3e5-d632-4120-db57-695758f09762"
      },
      "execution_count": 4,
      "outputs": [
        {
          "output_type": "stream",
          "name": "stdout",
          "text": [
            "Created using write mode.\n",
            "Created using write mode.Content appended to the file.\n",
            "Already exists.\n"
          ]
        }
      ]
    },
    {
      "cell_type": "code",
      "source": [
        "a=15.0\n",
        "b=5.0\n",
        "if b==0:\n",
        "  print(\"Denominator is zero\")\n",
        "else:\n",
        "  print(a/b)"
      ],
      "metadata": {
        "colab": {
          "base_uri": "https://localhost:8080/"
        },
        "id": "Cgz5JfjNlM2F",
        "outputId": "1c5bf128-a6a2-4701-f5e1-58d880420e85"
      },
      "execution_count": 11,
      "outputs": [
        {
          "output_type": "stream",
          "name": "stdout",
          "text": [
            "3.0\n"
          ]
        }
      ]
    },
    {
      "cell_type": "code",
      "source": [
        "a=20\n",
        "b=0\n",
        "print(a/b)"
      ],
      "metadata": {
        "colab": {
          "base_uri": "https://localhost:8080/",
          "height": 176
        },
        "id": "sK-kwkITlm58",
        "outputId": "b8133a86-272a-4533-ae4d-7d383aa239b1"
      },
      "execution_count": 13,
      "outputs": [
        {
          "output_type": "error",
          "ename": "ZeroDivisionError",
          "evalue": "division by zero",
          "traceback": [
            "\u001b[0;31m---------------------------------------------------------------------------\u001b[0m",
            "\u001b[0;31mZeroDivisionError\u001b[0m                         Traceback (most recent call last)",
            "\u001b[0;32m<ipython-input-13-d482bb84e7b4>\u001b[0m in \u001b[0;36m<cell line: 3>\u001b[0;34m()\u001b[0m\n\u001b[1;32m      1\u001b[0m \u001b[0ma\u001b[0m\u001b[0;34m=\u001b[0m\u001b[0;36m20\u001b[0m\u001b[0;34m\u001b[0m\u001b[0;34m\u001b[0m\u001b[0m\n\u001b[1;32m      2\u001b[0m \u001b[0mb\u001b[0m\u001b[0;34m=\u001b[0m\u001b[0;36m0\u001b[0m\u001b[0;34m\u001b[0m\u001b[0;34m\u001b[0m\u001b[0m\n\u001b[0;32m----> 3\u001b[0;31m \u001b[0mprint\u001b[0m\u001b[0;34m(\u001b[0m\u001b[0ma\u001b[0m\u001b[0;34m/\u001b[0m\u001b[0mb\u001b[0m\u001b[0;34m)\u001b[0m\u001b[0;34m\u001b[0m\u001b[0;34m\u001b[0m\u001b[0m\n\u001b[0m",
            "\u001b[0;31mZeroDivisionError\u001b[0m: division by zero"
          ]
        }
      ]
    },
    {
      "cell_type": "code",
      "source": [
        "# main.py\n",
        "import logging, sys\n",
        "\n",
        "def _init_logger():    #Create a logger named 'app'\n",
        "    logger = logging.getLogger('app')\n",
        "    #Set the threshold logging level of the logger to INFO\n",
        "    logger.setLevel(logging.INFO)\n",
        "    #Create a stream-based handler that writes the log entries    #into the standard output stream\n",
        "    handler = logging.StreamHandler(sys.stdout)\n",
        "    #Create a formatter for the logs\n",
        "    formatter = logging.Formatter(       '%(created)f:%(levelname)s:%(name)s:%(module)s:%(message)s')\n",
        "        #Set the created formatter as the formatter of the handler    handler.setFormatter(formatter)\n",
        "    #Add the created handler to this logger\n",
        "    logger.addHandler(handler)\n",
        "\n",
        "_init_logger()\n",
        "_logger = logging.getLogger('app')"
      ],
      "metadata": {
        "id": "F1fIl_T6nIT5"
      },
      "execution_count": 14,
      "outputs": []
    },
    {
      "cell_type": "code",
      "source": [
        "amount = 10000\n",
        "if(amount > 2999)\n",
        "print(\"You are eligible to purchase Dsa Self Paced\")"
      ],
      "metadata": {
        "colab": {
          "base_uri": "https://localhost:8080/",
          "height": 106
        },
        "id": "SV-kYlDUnf0p",
        "outputId": "c1923af1-6908-44c6-d164-99e67b153a36"
      },
      "execution_count": 16,
      "outputs": [
        {
          "output_type": "error",
          "ename": "SyntaxError",
          "evalue": "expected ':' (<ipython-input-16-6e9bf7ba577b>, line 2)",
          "traceback": [
            "\u001b[0;36m  File \u001b[0;32m\"<ipython-input-16-6e9bf7ba577b>\"\u001b[0;36m, line \u001b[0;32m2\u001b[0m\n\u001b[0;31m    if(amount > 2999)\u001b[0m\n\u001b[0m                     ^\u001b[0m\n\u001b[0;31mSyntaxError\u001b[0m\u001b[0;31m:\u001b[0m expected ':'\n"
          ]
        }
      ]
    },
    {
      "cell_type": "code",
      "source": [
        "# Open the file in read mode\n",
        "with open('filename.txt', 'r') as file:\n",
        "    # Read each line in the file\n",
        "    for line in file:\n",
        "        # Print each line\n",
        "        print(line.strip())"
      ],
      "metadata": {
        "colab": {
          "base_uri": "https://localhost:8080/",
          "height": 211
        },
        "id": "F3xlQXu6n1Uu",
        "outputId": "1ba30c01-437d-4a10-a4a3-0b937394460c"
      },
      "execution_count": 17,
      "outputs": [
        {
          "output_type": "error",
          "ename": "FileNotFoundError",
          "evalue": "[Errno 2] No such file or directory: 'filename.txt'",
          "traceback": [
            "\u001b[0;31m---------------------------------------------------------------------------\u001b[0m",
            "\u001b[0;31mFileNotFoundError\u001b[0m                         Traceback (most recent call last)",
            "\u001b[0;32m<ipython-input-17-4e694c223bff>\u001b[0m in \u001b[0;36m<cell line: 2>\u001b[0;34m()\u001b[0m\n\u001b[1;32m      1\u001b[0m \u001b[0;31m# Open the file in read mode\u001b[0m\u001b[0;34m\u001b[0m\u001b[0;34m\u001b[0m\u001b[0m\n\u001b[0;32m----> 2\u001b[0;31m \u001b[0;32mwith\u001b[0m \u001b[0mopen\u001b[0m\u001b[0;34m(\u001b[0m\u001b[0;34m'filename.txt'\u001b[0m\u001b[0;34m,\u001b[0m \u001b[0;34m'r'\u001b[0m\u001b[0;34m)\u001b[0m \u001b[0;32mas\u001b[0m \u001b[0mfile\u001b[0m\u001b[0;34m:\u001b[0m\u001b[0;34m\u001b[0m\u001b[0;34m\u001b[0m\u001b[0m\n\u001b[0m\u001b[1;32m      3\u001b[0m     \u001b[0;31m# Read each line in the file\u001b[0m\u001b[0;34m\u001b[0m\u001b[0;34m\u001b[0m\u001b[0m\n\u001b[1;32m      4\u001b[0m     \u001b[0;32mfor\u001b[0m \u001b[0mline\u001b[0m \u001b[0;32min\u001b[0m \u001b[0mfile\u001b[0m\u001b[0;34m:\u001b[0m\u001b[0;34m\u001b[0m\u001b[0;34m\u001b[0m\u001b[0m\n\u001b[1;32m      5\u001b[0m         \u001b[0;31m# Print each line\u001b[0m\u001b[0;34m\u001b[0m\u001b[0;34m\u001b[0m\u001b[0m\n",
            "\u001b[0;31mFileNotFoundError\u001b[0m: [Errno 2] No such file or directory: 'filename.txt'"
          ]
        }
      ]
    },
    {
      "cell_type": "code",
      "source": [
        "file1 = open(\"myfile.txt\", \"w\")\n",
        "L = [\"This is Delhi \\n\", \"This is Paris \\n\", \"This is London\"]\n",
        "file1.writelines(L)\n",
        "file1.close()\n",
        "\n",
        "# Append-adds at last\n",
        "file1 = open(\"myfile.txt\", \"a\")  # append mode\n",
        "file1.write(\"Today \\n\")\n",
        "file1.close()\n",
        "\n",
        "file1 = open(\"myfile.txt\", \"r\")\n",
        "print(\"Output of Readlines after appending\")\n",
        "print(file1.read())\n",
        "print()\n",
        "file1.close()\n",
        "\n",
        "# Write-Overwrites\n",
        "file1 = open(\"myfile.txt\", \"w\")  # write mode\n",
        "file1.write(\"Tomorrow \\n\")\n",
        "file1.close()\n",
        "\n",
        "file1 = open(\"myfile.txt\", \"r\")\n",
        "print(\"Output of Readlines after writing\")\n",
        "print(file1.read())\n",
        "print()\n",
        "file1.close()"
      ],
      "metadata": {
        "colab": {
          "base_uri": "https://localhost:8080/"
        },
        "id": "bofpJ7YToMfs",
        "outputId": "2b65b4ad-6293-42af-f469-4275d19e5081"
      },
      "execution_count": 18,
      "outputs": [
        {
          "output_type": "stream",
          "name": "stdout",
          "text": [
            "Output of Readlines after appending\n",
            "This is Delhi \n",
            "This is Paris \n",
            "This is LondonToday \n",
            "\n",
            "\n",
            "Output of Readlines after writing\n",
            "Tomorrow \n",
            "\n",
            "\n"
          ]
        }
      ]
    },
    {
      "cell_type": "code",
      "source": [
        "# Python code to demonstrate Dictionary and\n",
        "# missing value error\n",
        "d = { 'a' : 1 , 'b' : 2 }\n",
        "\n",
        "# trying to output value of absent key\n",
        "print (\"The value associated with 'c' is : \")\n",
        "print (d['c'])"
      ],
      "metadata": {
        "colab": {
          "base_uri": "https://localhost:8080/",
          "height": 193
        },
        "id": "ZZHbJNdYojJ2",
        "outputId": "18b0bb13-9988-4c98-affa-3ab1a9717536"
      },
      "execution_count": 19,
      "outputs": [
        {
          "output_type": "stream",
          "name": "stdout",
          "text": [
            "The value associated with 'c' is : \n"
          ]
        },
        {
          "output_type": "error",
          "ename": "KeyError",
          "evalue": "'c'",
          "traceback": [
            "\u001b[0;31m---------------------------------------------------------------------------\u001b[0m",
            "\u001b[0;31mKeyError\u001b[0m                                  Traceback (most recent call last)",
            "\u001b[0;32m<ipython-input-19-d4123a09aeff>\u001b[0m in \u001b[0;36m<cell line: 7>\u001b[0;34m()\u001b[0m\n\u001b[1;32m      5\u001b[0m \u001b[0;31m# trying to output value of absent key\u001b[0m\u001b[0;34m\u001b[0m\u001b[0;34m\u001b[0m\u001b[0m\n\u001b[1;32m      6\u001b[0m \u001b[0mprint\u001b[0m \u001b[0;34m(\u001b[0m\u001b[0;34m\"The value associated with 'c' is : \"\u001b[0m\u001b[0;34m)\u001b[0m\u001b[0;34m\u001b[0m\u001b[0;34m\u001b[0m\u001b[0m\n\u001b[0;32m----> 7\u001b[0;31m \u001b[0mprint\u001b[0m \u001b[0;34m(\u001b[0m\u001b[0md\u001b[0m\u001b[0;34m[\u001b[0m\u001b[0;34m'c'\u001b[0m\u001b[0;34m]\u001b[0m\u001b[0;34m)\u001b[0m\u001b[0;34m\u001b[0m\u001b[0;34m\u001b[0m\u001b[0m\n\u001b[0m",
            "\u001b[0;31mKeyError\u001b[0m: 'c'"
          ]
        }
      ]
    },
    {
      "cell_type": "code",
      "source": [
        "subjects = {'sree': 'Maths', 'ram': 'Biology'}\n",
        "sub = subjects.get('sreeram', \"Student doesn't exist\")\n",
        "print(sub)"
      ],
      "metadata": {
        "colab": {
          "base_uri": "https://localhost:8080/"
        },
        "id": "LyTJGwOMorKm",
        "outputId": "053aa73a-f38b-4702-e736-56103852e1b5"
      },
      "execution_count": 30,
      "outputs": [
        {
          "output_type": "stream",
          "name": "stdout",
          "text": [
            "Student doesn't exist\n"
          ]
        }
      ]
    },
    {
      "cell_type": "code",
      "source": [
        "import os\n",
        "\n",
        "file_path = 'example.txt'\n",
        "\n",
        "if os.path.exists(file_path):\n",
        "    print(f\"The file {file_path} exists.\")\n",
        "else:\n",
        "    print(f\"The file {file_path} does not exist.\")\n"
      ],
      "metadata": {
        "colab": {
          "base_uri": "https://localhost:8080/"
        },
        "id": "HELxSvDKo27v",
        "outputId": "0c397d44-7313-474a-a470-103ef2f4551d"
      },
      "execution_count": 21,
      "outputs": [
        {
          "output_type": "stream",
          "name": "stdout",
          "text": [
            "The file example.txt does not exist.\n"
          ]
        }
      ]
    },
    {
      "cell_type": "code",
      "source": [
        "import logging\n",
        "name = 'GFG'\n",
        "logging.error('%s raised an error', name)"
      ],
      "metadata": {
        "colab": {
          "base_uri": "https://localhost:8080/"
        },
        "id": "94XIwoPNpBou",
        "outputId": "155f2465-358a-472d-c542-96325f6d6bb3"
      },
      "execution_count": 22,
      "outputs": [
        {
          "output_type": "stream",
          "name": "stderr",
          "text": [
            "ERROR:root:GFG raised an error\n"
          ]
        }
      ]
    },
    {
      "cell_type": "code",
      "source": [
        "\n",
        "\n",
        "\n",
        "\n",
        "# Creating a Dictionary\n",
        "subjects = {'Sree': 'Maths',\n",
        "            'Ram': 'Biology',\n",
        "            'Shyam': 'Science',\n",
        "            'Abdul': 'Hindi'}\n",
        "# Storing the subject of student\n",
        "# that doesn't exist\n",
        "sub = subjects.get('sreelekha')\n",
        "# Printing the Subject\n",
        "print(sub)\n"
      ],
      "metadata": {
        "colab": {
          "base_uri": "https://localhost:8080/"
        },
        "id": "EwBpGBvZpNM1",
        "outputId": "3f688475-188a-4b6f-d7b3-e63071ca68e9"
      },
      "execution_count": 29,
      "outputs": [
        {
          "output_type": "stream",
          "name": "stdout",
          "text": [
            "None\n"
          ]
        }
      ]
    },
    {
      "cell_type": "code",
      "source": [
        "# importing the module\n",
        "import tracemalloc\n",
        "\n",
        "# code or function for which memory\n",
        "# has to be monitored\n",
        "def app():\n",
        "    lt = []\n",
        "    for i in range(0, 100000):\n",
        "        lt.append(i)\n",
        "\n",
        "# starting the monitoring\n",
        "tracemalloc.start()\n",
        "\n",
        "# function call\n",
        "app()\n",
        "\n",
        "# displaying the memory\n",
        "print(tracemalloc.get_traced_memory())\n",
        "\n",
        "# stopping the library\n",
        "tracemalloc.stop()"
      ],
      "metadata": {
        "colab": {
          "base_uri": "https://localhost:8080/"
        },
        "id": "iphie96npZo5",
        "outputId": "e2b6d1eb-f0dc-4b69-fd28-da2110526d83"
      },
      "execution_count": 24,
      "outputs": [
        {
          "output_type": "stream",
          "name": "stdout",
          "text": [
            "(3567, 3597341)\n"
          ]
        }
      ]
    },
    {
      "cell_type": "code",
      "source": [
        "# assign list\n",
        "l = ['Geeks','for','Geeks!']\n",
        "\n",
        "# open file\n",
        "with open('gfg.txt', 'w+') as f:\n",
        "\n",
        "    # write elements of list\n",
        "    for items in l:\n",
        "        f.write('%s\\n' %items)\n",
        "\n",
        "    print(\"File written successfully\")\n",
        "\n",
        "\n",
        "# close the file\n",
        "f.close()"
      ],
      "metadata": {
        "colab": {
          "base_uri": "https://localhost:8080/"
        },
        "id": "23jeb4PUp5gF",
        "outputId": "f9c22597-8ae7-40c6-ca7c-b42f8f610376"
      },
      "execution_count": 25,
      "outputs": [
        {
          "output_type": "stream",
          "name": "stdout",
          "text": [
            "File written successfully\n"
          ]
        }
      ]
    },
    {
      "cell_type": "code",
      "source": [
        "# Creating a Dictionary\n",
        "subjects = {'Sree': 'Maths',\n",
        "            'Ram': 'Biology',\n",
        "            'Shyam': 'Science',\n",
        "            'Abdul': 'Hindi'}\n",
        "# try block\n",
        "try:\n",
        "    print('subject of Fharan is:',\n",
        "          subjects['Fharan'])\n",
        "# except Block\n",
        "except KeyError:\n",
        "    print(\"Fharan's records doesn't exist\")"
      ],
      "metadata": {
        "colab": {
          "base_uri": "https://localhost:8080/"
        },
        "id": "Edmr9xThqI_W",
        "outputId": "8e749129-09bc-4710-8d10-749f7424f42b"
      },
      "execution_count": 27,
      "outputs": [
        {
          "output_type": "stream",
          "name": "stdout",
          "text": [
            "Fharan's records doesn't exist\n"
          ]
        }
      ]
    },
    {
      "cell_type": "code",
      "source": [
        "# Python program creating a\n",
        "# context manager\n",
        "\n",
        "class ContextManager():\n",
        "    def __init__(self):\n",
        "        print('init method called')\n",
        "\n",
        "    def __enter__(self):\n",
        "        print('enter method called')\n",
        "        return self\n",
        "\n",
        "    def __exit__(self, exc_type, exc_value, exc_traceback):\n",
        "        print('exit method called')\n",
        "\n",
        "with ContextManager() as manager:\n",
        "    print('with statement block')"
      ],
      "metadata": {
        "colab": {
          "base_uri": "https://localhost:8080/"
        },
        "id": "czIXLNoGrJV_",
        "outputId": "de410a35-6ff6-4bdc-80e2-dab32f255153"
      },
      "execution_count": 31,
      "outputs": [
        {
          "output_type": "stream",
          "name": "stdout",
          "text": [
            "init method called\n",
            "enter method called\n",
            "with statement block\n",
            "exit method called\n"
          ]
        }
      ]
    },
    {
      "cell_type": "code",
      "source": [
        "# import required libraries\n",
        "import os\n",
        "\n",
        "# file_path to check whether it is empty\n",
        "file_path = \"/Users/girish/Desktop/GFG Internship/input1.txt\"\n",
        "\n",
        "try:\n",
        "    # get the size of file\n",
        "    file_size = os.stat(file_path).st_size\n",
        "\n",
        "    # if file size is 0, it is empty\n",
        "    if file_size == 0:\n",
        "        print(\"File is empty\")\n",
        "    else:\n",
        "        print(\"File is NOT empty\")\n",
        "\n",
        "# if file does not exist, then exception occurs\n",
        "except FileNotFoundError as e:\n",
        "    print(\"File NOT found\")\n",
        "\n"
      ],
      "metadata": {
        "colab": {
          "base_uri": "https://localhost:8080/"
        },
        "id": "6Hixk40mrzub",
        "outputId": "66dfd118-b340-4bec-f238-c52b9cd7ecd5"
      },
      "execution_count": 57,
      "outputs": [
        {
          "output_type": "stream",
          "name": "stdout",
          "text": [
            "File NOT found\n"
          ]
        }
      ]
    },
    {
      "cell_type": "code",
      "source": [
        "\n",
        "\n",
        "\n",
        "try:\n",
        "    printf(\"GeeksforGeeks\")\n",
        "except Exception as Argument:\n",
        "\n",
        "    # creating/opening a file\n",
        "    f = open(\"demofile2.txt\", \"a\")\n",
        "\n",
        "    # writing in the file\n",
        "    f.write(str(Argument))\n",
        "\n",
        "    # closing the file\n",
        "    f.close()"
      ],
      "metadata": {
        "id": "ixdutiCCsAyn"
      },
      "execution_count": 59,
      "outputs": []
    },
    {
      "cell_type": "code",
      "source": [
        "# import required libraries\n",
        "import os\n",
        "\n",
        "# file_path to check whether it is empty\n",
        "file_path = \"/Users/girish/Desktop/GFG Internship/input.txt\"\n",
        "\n",
        "try:\n",
        "    # get the size of file\n",
        "    file_size = os.path.getsize(file_path)\n",
        "\n",
        "    # if file size is 0, it is empty\n",
        "    if file_size == 0:\n",
        "        print(\"File is empty\")\n",
        "    else:\n",
        "        print(\"File is NOT empty\")\n",
        "\n",
        "# if file does not exist, then exception occurs\n",
        "except FileNotFoundError as e:\n",
        "    print(\"File NOT found\")"
      ],
      "metadata": {
        "colab": {
          "base_uri": "https://localhost:8080/"
        },
        "id": "uU3sMtnPuj8W",
        "outputId": "98acbd53-6c3b-4c4a-c57c-0b50e9caa079"
      },
      "execution_count": 56,
      "outputs": [
        {
          "output_type": "stream",
          "name": "stdout",
          "text": [
            "File NOT found\n"
          ]
        }
      ]
    },
    {
      "cell_type": "code",
      "source": [
        "# Python program showing\n",
        "# file management using\n",
        "# context manager\n",
        "\n",
        "class FileManager():\n",
        "    def __init__(self, filename, mode):\n",
        "        self.filename = filename\n",
        "        self.mode = mode\n",
        "        self.file = None\n",
        "\n",
        "    def __enter__(self):\n",
        "        self.file = open(self.filename, self.mode)\n",
        "        return self.file\n",
        "\n",
        "    def __exit__(self, exc_type, exc_value, exc_traceback):\n",
        "        self.file.close()\n",
        "\n",
        "# loading a file\n",
        "with FileManager('test.txt', 'w') as f:\n",
        "    f.write('Test')\n",
        "\n",
        "print(f.closed)"
      ],
      "metadata": {
        "colab": {
          "base_uri": "https://localhost:8080/"
        },
        "id": "yjbMQ9mpuwHT",
        "outputId": "f07caebf-4128-48d5-b081-e025608290df"
      },
      "execution_count": 84,
      "outputs": [
        {
          "output_type": "stream",
          "name": "stdout",
          "text": [
            "True\n"
          ]
        }
      ]
    },
    {
      "cell_type": "code",
      "source": [
        "# Python program creating a\n",
        "# context manager\n",
        "\n",
        "class ContextManager():\n",
        "    def __init__(self):\n",
        "        print('init method called')\n",
        "\n",
        "    def __enter__(self):\n",
        "        print('enter method called')\n",
        "        return self\n",
        "\n",
        "    def __exit__(self, exc_type, exc_value, exc_traceback):\n",
        "        print('exit method called')\n",
        "\n",
        "with ContextManager() as manager:\n",
        "    print('with statement block')"
      ],
      "metadata": {
        "colab": {
          "base_uri": "https://localhost:8080/"
        },
        "id": "qTcvCZ21vZwh",
        "outputId": "20df2799-9253-464f-adfe-9aa152e67660"
      },
      "execution_count": 85,
      "outputs": [
        {
          "output_type": "stream",
          "name": "stdout",
          "text": [
            "init method called\n",
            "enter method called\n",
            "with statement block\n",
            "exit method called\n"
          ]
        }
      ]
    },
    {
      "cell_type": "code",
      "source": [],
      "metadata": {
        "id": "ytY7ROUSyLSZ"
      },
      "execution_count": null,
      "outputs": []
    }
  ]
}